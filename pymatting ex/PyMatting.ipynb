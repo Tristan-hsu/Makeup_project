{
 "cells": [
  {
   "cell_type": "markdown",
   "metadata": {},
   "source": [
    "# Introduction\n",
    "This file is to "
   ]
  },
  {
   "cell_type": "code",
   "execution_count": 8,
   "metadata": {},
   "outputs": [
    {
     "name": "stdout",
     "output_type": "stream",
     "text": [
      "Requirement already satisfied: mediapipe in c:\\users\\user\\appdata\\roaming\\python\\python39\\site-packages (0.10.21)\n",
      "Requirement already satisfied: absl-py in c:\\users\\user\\anaconda3\\envs\\dl\\lib\\site-packages (from mediapipe) (2.1.0)\n",
      "Requirement already satisfied: attrs>=19.1.0 in c:\\users\\user\\appdata\\roaming\\python\\python39\\site-packages (from mediapipe) (25.3.0)\n",
      "Requirement already satisfied: flatbuffers>=2.0 in c:\\users\\user\\anaconda3\\envs\\dl\\lib\\site-packages (from mediapipe) (24.3.25)\n",
      "Requirement already satisfied: jax in c:\\users\\user\\appdata\\roaming\\python\\python39\\site-packages (from mediapipe) (0.4.30)\n",
      "Requirement already satisfied: jaxlib in c:\\users\\user\\appdata\\roaming\\python\\python39\\site-packages (from mediapipe) (0.4.30)\n",
      "Requirement already satisfied: matplotlib in c:\\users\\user\\anaconda3\\envs\\dl\\lib\\site-packages (from mediapipe) (3.9.0)\n",
      "Requirement already satisfied: numpy<2 in c:\\users\\user\\anaconda3\\envs\\dl\\lib\\site-packages (from mediapipe) (1.26.4)\n",
      "Requirement already satisfied: opencv-contrib-python in c:\\users\\user\\appdata\\roaming\\python\\python39\\site-packages (from mediapipe) (4.11.0.86)\n",
      "Requirement already satisfied: protobuf<5,>=4.25.3 in c:\\users\\user\\anaconda3\\envs\\dl\\lib\\site-packages (from mediapipe) (4.25.3)\n",
      "Requirement already satisfied: sounddevice>=0.4.4 in c:\\users\\user\\appdata\\roaming\\python\\python39\\site-packages (from mediapipe) (0.5.1)\n",
      "Requirement already satisfied: sentencepiece in c:\\users\\user\\anaconda3\\envs\\dl\\lib\\site-packages (from mediapipe) (0.2.0)\n",
      "Requirement already satisfied: CFFI>=1.0 in c:\\users\\user\\appdata\\roaming\\python\\python39\\site-packages (from sounddevice>=0.4.4->mediapipe) (1.17.1)\n",
      "Requirement already satisfied: ml-dtypes>=0.2.0 in c:\\users\\user\\anaconda3\\envs\\dl\\lib\\site-packages (from jax->mediapipe) (0.3.2)\n",
      "Requirement already satisfied: opt-einsum in c:\\users\\user\\anaconda3\\envs\\dl\\lib\\site-packages (from jax->mediapipe) (3.3.0)\n",
      "Requirement already satisfied: scipy>=1.9 in c:\\users\\user\\anaconda3\\envs\\dl\\lib\\site-packages (from jax->mediapipe) (1.13.1)\n",
      "Requirement already satisfied: importlib-metadata>=4.6 in c:\\users\\user\\anaconda3\\envs\\dl\\lib\\site-packages (from jax->mediapipe) (7.1.0)\n",
      "Requirement already satisfied: contourpy>=1.0.1 in c:\\users\\user\\anaconda3\\envs\\dl\\lib\\site-packages (from matplotlib->mediapipe) (1.2.1)\n",
      "Requirement already satisfied: cycler>=0.10 in c:\\users\\user\\anaconda3\\envs\\dl\\lib\\site-packages (from matplotlib->mediapipe) (0.12.1)\n",
      "Requirement already satisfied: fonttools>=4.22.0 in c:\\users\\user\\anaconda3\\envs\\dl\\lib\\site-packages (from matplotlib->mediapipe) (4.53.0)\n",
      "Requirement already satisfied: kiwisolver>=1.3.1 in c:\\users\\user\\anaconda3\\envs\\dl\\lib\\site-packages (from matplotlib->mediapipe) (1.4.5)\n",
      "Requirement already satisfied: packaging>=20.0 in c:\\users\\user\\anaconda3\\envs\\dl\\lib\\site-packages (from matplotlib->mediapipe) (24.0)\n",
      "Requirement already satisfied: pillow>=8 in c:\\users\\user\\anaconda3\\envs\\dl\\lib\\site-packages (from matplotlib->mediapipe) (10.3.0)\n",
      "Requirement already satisfied: pyparsing>=2.3.1 in c:\\users\\user\\anaconda3\\envs\\dl\\lib\\site-packages (from matplotlib->mediapipe) (3.1.2)\n",
      "Requirement already satisfied: python-dateutil>=2.7 in c:\\users\\user\\anaconda3\\envs\\dl\\lib\\site-packages (from matplotlib->mediapipe) (2.9.0)\n",
      "Requirement already satisfied: importlib-resources>=3.2.0 in c:\\users\\user\\anaconda3\\envs\\dl\\lib\\site-packages (from matplotlib->mediapipe) (6.4.0)\n",
      "Requirement already satisfied: pycparser in c:\\users\\user\\anaconda3\\envs\\dl\\lib\\site-packages (from CFFI>=1.0->sounddevice>=0.4.4->mediapipe) (2.22)\n",
      "Requirement already satisfied: zipp>=0.5 in c:\\users\\user\\anaconda3\\envs\\dl\\lib\\site-packages (from importlib-metadata>=4.6->jax->mediapipe) (3.17.0)\n",
      "Requirement already satisfied: six>=1.5 in c:\\users\\user\\anaconda3\\envs\\dl\\lib\\site-packages (from python-dateutil>=2.7->matplotlib->mediapipe) (1.16.0)\n"
     ]
    }
   ],
   "source": [
    "!pip install mediapipe\n",
    "!pip install PyMatting"
   ]
  },
  {
   "cell_type": "code",
   "execution_count": 1,
   "metadata": {},
   "outputs": [],
   "source": [
    "import cv2\n",
    "import mediapipe as mp\n",
    "import numpy as np\n",
    "import os\n",
    "from pymatting import *"
   ]
  },
  {
   "cell_type": "markdown",
   "metadata": {},
   "source": [
    "# Test of All Algorithm"
   ]
  },
  {
   "cell_type": "code",
   "execution_count": 3,
   "metadata": {},
   "outputs": [],
   "source": [
    "image = load_image(\"../256img_lst/001.jpg\", \"RGB\")\n",
    "trimap = load_image(\"../trimap/001.jpg\", \"GRAY\")\n",
    "alpha = estimate_alpha_cf(\n",
    "    image,\n",
    "    trimap,\n",
    "    laplacian_kwargs={\"epsilon\": 1e-6},\n",
    "    cg_kwargs={\"maxiter\":2000})\n",
    "\n",
    "save_image(\"123.png\", alpha)"
   ]
  },
  {
   "cell_type": "code",
   "execution_count": 7,
   "metadata": {},
   "outputs": [],
   "source": [
    "from pymatting import *\n",
    "image = load_image(\"./256img_lst/001.jpg\", \"RGB\")\n",
    "trimap = load_image(\"./trimap/001.jpg\", \"GRAY\")\n",
    "alpha = estimate_alpha_knn(\n",
    "    image,\n",
    "    trimap,\n",
    "    laplacian_kwargs={\"n_neighbors\": [15, 10]},\n",
    "    cg_kwargs={\"maxiter\":2000})\n",
    "save_image(\"knn.png\", alpha)\n"
   ]
  },
  {
   "cell_type": "code",
   "execution_count": 9,
   "metadata": {},
   "outputs": [],
   "source": [
    "image = load_image(\"./256img_lst/001.jpg\", \"RGB\")\n",
    "trimap = load_image(\"./trimap/001.jpg\", \"GRAY\")\n",
    "alpha = estimate_alpha_lbdm(\n",
    "    image,\n",
    "    trimap,\n",
    "    preconditioner=None,\n",
    "    laplacian_kwargs={},\n",
    "    cg_kwargs={})\n",
    "\n",
    "save_image(\"lbdm.png\", alpha)"
   ]
  },
  {
   "cell_type": "code",
   "execution_count": 10,
   "metadata": {},
   "outputs": [],
   "source": [
    "image = load_image(\"./256img_lst/001.jpg\", \"RGB\")\n",
    "trimap = load_image(\"./trimap/001.jpg\", \"GRAY\")\n",
    "\n",
    "alpha = estimate_alpha_lkm(\n",
    "    image,\n",
    "    trimap,\n",
    "    laplacian_kwargs={},\n",
    "    cg_kwargs={})\n",
    "save_image(\"lkm.png\", alpha)"
   ]
  },
  {
   "cell_type": "code",
   "execution_count": null,
   "metadata": {},
   "outputs": [],
   "source": [
    "image = load_image(\"./256img_lst/001.jpg\", \"RGB\")\n",
    "trimap = load_image(\"./trimap/001.jpg\", \"GRAY\")\n",
    "\n",
    "alpha = estimate_alpha_sm(\n",
    "    image,\n",
    "    trimap,\n",
    "    return_foreground_background=False,\n",
    "    trimap_expansion_radius=10,\n",
    "    trimap_expansion_threshold=0.02,\n",
    "    sample_gathering_angles=4,\n",
    "    sample_gathering_weights=(3.0, 2.0, 1.0, 4.0),\n",
    "    sample_gathering_Np_radius=1,\n",
    "    sample_refinement_radius=5,\n",
    "    local_smoothing_radius1=5,\n",
    "    local_smoothing_radius2=5,\n",
    "    local_smoothing_radius3=5,\n",
    "    local_smoothing_sigma_sq1=None,\n",
    "    local_smoothing_sigma_sq2=0.1,\n",
    "    local_smoothing_sigma_sq3=None)\n",
    "save_image(\"sm.png\", alpha)"
   ]
  },
  {
   "cell_type": "markdown",
   "metadata": {},
   "source": [
    "# Choose to use rw algorithm\n"
   ]
  },
  {
   "cell_type": "code",
   "execution_count": 5,
   "metadata": {},
   "outputs": [
    {
     "name": "stdout",
     "output_type": "stream",
     "text": [
      "./trimap/038.jpg\n",
      "./trimap/213.jpg\n",
      "./trimap/232.jpg\n"
     ]
    }
   ],
   "source": []
  },
  {
   "cell_type": "code",
   "execution_count": null,
   "metadata": {},
   "outputs": [],
   "source": []
  },
  {
   "cell_type": "code",
   "execution_count": null,
   "metadata": {},
   "outputs": [],
   "source": []
  }
 ],
 "metadata": {
  "kernelspec": {
   "display_name": "DL",
   "language": "python",
   "name": "python3"
  },
  "language_info": {
   "codemirror_mode": {
    "name": "ipython",
    "version": 3
   },
   "file_extension": ".py",
   "mimetype": "text/x-python",
   "name": "python",
   "nbconvert_exporter": "python",
   "pygments_lexer": "ipython3",
   "version": "3.9.19"
  }
 },
 "nbformat": 4,
 "nbformat_minor": 2
}
