{
 "cells": [
  {
   "cell_type": "code",
   "execution_count": 4,
   "metadata": {},
   "outputs": [],
   "source": [
    "import cv2\n",
    "import mediapipe as mp\n",
    "import numpy as np\n",
    "import os\n",
    "from pymatting import *"
   ]
  },
  {
   "cell_type": "code",
   "execution_count": 3,
   "metadata": {},
   "outputs": [
    {
     "name": "stdout",
     "output_type": "stream",
     "text": [
      "Collecting PyMatting\n",
      "  Using cached PyMatting-1.1.12-py3-none-any.whl.metadata (7.4 kB)\n",
      "Requirement already satisfied: numpy>=1.16.0 in c:\\users\\user\\anaconda3\\envs\\py_39_cv\\lib\\site-packages (from PyMatting) (1.26.4)\n",
      "Requirement already satisfied: pillow>=5.2.0 in c:\\users\\user\\anaconda3\\envs\\py_39_cv\\lib\\site-packages (from PyMatting) (10.3.0)\n",
      "Collecting numba!=0.49.0 (from PyMatting)\n",
      "  Using cached numba-0.59.1-cp39-cp39-win_amd64.whl.metadata (2.8 kB)\n",
      "Requirement already satisfied: scipy>=1.1.0 in c:\\users\\user\\anaconda3\\envs\\py_39_cv\\lib\\site-packages (from PyMatting) (1.13.0)\n",
      "Collecting llvmlite<0.43,>=0.42.0dev0 (from numba!=0.49.0->PyMatting)\n",
      "  Using cached llvmlite-0.42.0-cp39-cp39-win_amd64.whl.metadata (4.9 kB)\n",
      "Using cached PyMatting-1.1.12-py3-none-any.whl (52 kB)\n",
      "Using cached numba-0.59.1-cp39-cp39-win_amd64.whl (2.6 MB)\n",
      "Using cached llvmlite-0.42.0-cp39-cp39-win_amd64.whl (28.1 MB)\n",
      "Installing collected packages: llvmlite, numba, PyMatting\n",
      "Successfully installed PyMatting-1.1.12 llvmlite-0.42.0 numba-0.59.1\n"
     ]
    }
   ],
   "source": [
    "!pip install PyMatting"
   ]
  },
  {
   "cell_type": "code",
   "execution_count": null,
   "metadata": {},
   "outputs": [],
   "source": [
    "image = load_image(\"data/lemur/lemur.png\", \"RGB\")\n",
    "trimap = load_image(\"data/lemur/lemur_trimap.png\", \"GRAY\")\n",
    "alpha = estimate_alpha_cf(\n",
    "    image,\n",
    "    trimap,\n",
    "    laplacian_kwargs={\"epsilon\": 1e-6},\n",
    "    cg_kwargs={\"maxiter\":2000})"
   ]
  },
  {
   "cell_type": "code",
   "execution_count": null,
   "metadata": {},
   "outputs": [],
   "source": [
    "from pymatting import *\n",
    "image = load_image(\"data/lemur/lemur.png\", \"RGB\")\n",
    "trimap = load_image(\"data/lemur/lemur_trimap.png\", \"GRAY\")\n",
    "alpha = estimate_alpha_knn(\n",
    "    image,\n",
    "    trimap,\n",
    "    laplacian_kwargs={\"n_neighbors\": [15, 10]},\n",
    "    cg_kwargs={\"maxiter\":2000})\n"
   ]
  }
 ],
 "metadata": {
  "kernelspec": {
   "display_name": "py_39_cv",
   "language": "python",
   "name": "python3"
  },
  "language_info": {
   "codemirror_mode": {
    "name": "ipython",
    "version": 3
   },
   "file_extension": ".py",
   "mimetype": "text/x-python",
   "name": "python",
   "nbconvert_exporter": "python",
   "pygments_lexer": "ipython3",
   "version": "3.9.19"
  }
 },
 "nbformat": 4,
 "nbformat_minor": 2
}
