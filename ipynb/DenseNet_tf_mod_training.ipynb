{
 "cells": [
  {
   "cell_type": "code",
   "execution_count": 1,
   "metadata": {},
   "outputs": [],
   "source": [
    "import re\n",
    "import torch\n",
    "import torch.nn as nn\n",
    "import torch.nn.functional as F\n",
    "import torch.utils.checkpoint as cp\n",
    "from collections import OrderedDict\n",
    "# from .utils import load_state_dict_from_url\n",
    "from torch import Tensor\n",
    "from torch.jit.annotations import List"
   ]
  },
  {
   "cell_type": "code",
   "execution_count": null,
   "metadata": {},
   "outputs": [],
   "source": [
    "def dense_block(self, input_x, nb_layers, layer_name):\n",
    "    with tf.name_scope(layer_name):\n",
    "        layers_concat = list()\n",
    "        layers_concat.append(input_x)\n",
    "\n",
    "        x = self.bottleneck_layer(input_x, scope=layer_name + '_bottleN_' + str(0))\n",
    "\n",
    "        layers_concat.append(x)\n",
    "\n",
    "        for i in range(nb_layers - 1):\n",
    "            x = Concatenation(layers_concat)\n",
    "            x = self.bottleneck_layer(x, scope=layer_name + '_bottleN_' + str(i + 1))\n",
    "            layers_concat.append(x)\n",
    "\n",
    "        x = Concatenation(layers_concat)\n",
    "        \n",
    "        return x"
   ]
  }
 ],
 "metadata": {
  "kernelspec": {
   "display_name": "DL",
   "language": "python",
   "name": "python3"
  },
  "language_info": {
   "codemirror_mode": {
    "name": "ipython",
    "version": 3
   },
   "file_extension": ".py",
   "mimetype": "text/x-python",
   "name": "python",
   "nbconvert_exporter": "python",
   "pygments_lexer": "ipython3",
   "version": "3.9.19"
  }
 },
 "nbformat": 4,
 "nbformat_minor": 2
}
